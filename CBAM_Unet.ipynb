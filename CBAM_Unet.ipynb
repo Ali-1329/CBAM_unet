{
  "nbformat": 4,
  "nbformat_minor": 0,
  "metadata": {
    "colab": {
      "name": "CBAM_Unet.ipynb",
      "provenance": [],
      "mount_file_id": "1qmRbmW8btOt_4ntxk2qQb-PbWOnjxISm",
      "authorship_tag": "ABX9TyP/IlmnEyXklHPcVgWap6xM",
      "include_colab_link": true
    },
    "kernelspec": {
      "name": "python3",
      "display_name": "Python 3"
    },
    "language_info": {
      "name": "python"
    },
    "accelerator": "GPU"
  },
  "cells": [
    {
      "cell_type": "markdown",
      "metadata": {
        "id": "view-in-github",
        "colab_type": "text"
      },
      "source": [
        "<a href=\"https://colab.research.google.com/github/Ali-1329/CBAM_unet/blob/main/CBAM_Unet.ipynb\" target=\"_parent\"><img src=\"https://colab.research.google.com/assets/colab-badge.svg\" alt=\"Open In Colab\"/></a>"
      ]
    },
    {
      "cell_type": "code",
      "execution_count": null,
      "metadata": {
        "id": "xRd5zBms3uyz"
      },
      "outputs": [],
      "source": [
        ""
      ]
    },
    {
      "cell_type": "code",
      "source": [
        "!git clone https://github.com/Ali-1329/CBAM_unet.git"
      ],
      "metadata": {
        "id": "aAWKmmCd4OAn",
        "colab": {
          "base_uri": "https://localhost:8080/"
        },
        "outputId": "3f525c1d-5b6a-412d-d0cd-8a2b3bbeda8d"
      },
      "execution_count": 1,
      "outputs": [
        {
          "output_type": "stream",
          "name": "stdout",
          "text": [
            "Cloning into 'CBAM_unet'...\n",
            "remote: Enumerating objects: 37, done.\u001b[K\n",
            "remote: Counting objects: 100% (37/37), done.\u001b[K\n",
            "remote: Compressing objects: 100% (37/37), done.\u001b[K\n",
            "remote: Total 37 (delta 15), reused 6 (delta 0), pack-reused 0\u001b[K\n",
            "Unpacking objects: 100% (37/37), done.\n"
          ]
        }
      ]
    },
    {
      "cell_type": "code",
      "source": [
        "cd /content/CBAM_unet"
      ],
      "metadata": {
        "id": "FguO99V04RTd",
        "colab": {
          "base_uri": "https://localhost:8080/"
        },
        "outputId": "16c6e9e0-0b0a-4eda-ab7c-8dd58aea99ce"
      },
      "execution_count": 2,
      "outputs": [
        {
          "output_type": "stream",
          "name": "stdout",
          "text": [
            "/content/CBAM_unet\n"
          ]
        }
      ]
    },
    {
      "cell_type": "code",
      "source": [
        "!python train.py"
      ],
      "metadata": {
        "colab": {
          "base_uri": "https://localhost:8080/"
        },
        "id": "WZyLmkhC47r5",
        "outputId": "accea436-07ee-445b-b3a3-55a99038e38c"
      },
      "execution_count": 3,
      "outputs": [
        {
          "output_type": "stream",
          "name": "stdout",
          "text": [
            "2022-03-03 08:27:35.509916: W tensorflow/core/common_runtime/gpu/gpu_bfc_allocator.cc:39] Overriding allow_growth setting because the TF_FORCE_GPU_ALLOW_GROWTH environment variable is set. Original config value was 0.\n",
            "Epoch 1/100\n",
            "368/368 [==============================] - 728s 2s/step - loss: 0.7451 - recall: 0.8055 - precision: 0.1868 - dice_coef: 0.2551 - mean_io_u: 0.4505 - val_loss: 0.7458 - val_recall: 0.7895 - val_precision: 0.2221 - val_dice_coef: 0.2494 - val_mean_io_u: 0.4535 - lr: 1.0000e-04\n",
            "Epoch 2/100\n",
            "368/368 [==============================] - 183s 497ms/step - loss: 0.7071 - recall: 0.7831 - precision: 0.2048 - dice_coef: 0.2931 - mean_io_u: 0.4505 - val_loss: 0.6974 - val_recall: 0.8538 - val_precision: 0.2211 - val_dice_coef: 0.2965 - val_mean_io_u: 0.4535 - lr: 1.0000e-04\n",
            "Epoch 3/100\n",
            "368/368 [==============================] - 182s 496ms/step - loss: 0.6924 - recall: 0.7613 - precision: 0.2173 - dice_coef: 0.3079 - mean_io_u: 0.4505 - val_loss: 0.6889 - val_recall: 0.8309 - val_precision: 0.2324 - val_dice_coef: 0.3052 - val_mean_io_u: 0.4535 - lr: 1.0000e-04\n",
            "Epoch 4/100\n",
            "368/368 [==============================] - 183s 496ms/step - loss: 0.6794 - recall: 0.7325 - precision: 0.2329 - dice_coef: 0.3209 - mean_io_u: 0.4505 - val_loss: 0.6779 - val_recall: 0.7594 - val_precision: 0.2551 - val_dice_coef: 0.3169 - val_mean_io_u: 0.4535 - lr: 1.0000e-04\n",
            "Epoch 5/100\n",
            "368/368 [==============================] - 183s 496ms/step - loss: 0.6630 - recall: 0.6964 - precision: 0.2533 - dice_coef: 0.3373 - mean_io_u: 0.4505 - val_loss: 0.6537 - val_recall: 0.7748 - val_precision: 0.2741 - val_dice_coef: 0.3410 - val_mean_io_u: 0.4535 - lr: 1.0000e-04\n",
            "Epoch 6/100\n",
            "368/368 [==============================] - 182s 495ms/step - loss: 0.6466 - recall: 0.6603 - precision: 0.2757 - dice_coef: 0.3537 - mean_io_u: 0.4505 - val_loss: 0.6489 - val_recall: 0.6662 - val_precision: 0.3013 - val_dice_coef: 0.3466 - val_mean_io_u: 0.4535 - lr: 1.0000e-04\n",
            "Epoch 7/100\n",
            "368/368 [==============================] - 182s 496ms/step - loss: 0.6303 - recall: 0.6443 - precision: 0.2924 - dice_coef: 0.3700 - mean_io_u: 0.4505 - val_loss: 0.6404 - val_recall: 0.6077 - val_precision: 0.3176 - val_dice_coef: 0.3556 - val_mean_io_u: 0.4535 - lr: 1.0000e-04\n",
            "Epoch 8/100\n",
            "368/368 [==============================] - 182s 495ms/step - loss: 0.6149 - recall: 0.6292 - precision: 0.3108 - dice_coef: 0.3854 - mean_io_u: 0.4505 - val_loss: 0.6259 - val_recall: 0.6869 - val_precision: 0.3094 - val_dice_coef: 0.3698 - val_mean_io_u: 0.4535 - lr: 1.0000e-04\n",
            "Epoch 9/100\n",
            "368/368 [==============================] - 182s 494ms/step - loss: 0.6043 - recall: 0.6167 - precision: 0.3232 - dice_coef: 0.3960 - mean_io_u: 0.4505 - val_loss: 0.6600 - val_recall: 0.4418 - val_precision: 0.3627 - val_dice_coef: 0.3306 - val_mean_io_u: 0.4535 - lr: 1.0000e-04\n",
            "Epoch 10/100\n",
            "368/368 [==============================] - 182s 495ms/step - loss: 0.5930 - recall: 0.6136 - precision: 0.3344 - dice_coef: 0.4074 - mean_io_u: 0.4506 - val_loss: 0.6064 - val_recall: 0.7314 - val_precision: 0.3161 - val_dice_coef: 0.3892 - val_mean_io_u: 0.4535 - lr: 1.0000e-04\n",
            "Epoch 11/100\n",
            "368/368 [==============================] - 182s 494ms/step - loss: 0.5738 - recall: 0.5980 - precision: 0.3640 - dice_coef: 0.4265 - mean_io_u: 0.4508 - val_loss: 0.6177 - val_recall: 0.6027 - val_precision: 0.3371 - val_dice_coef: 0.3792 - val_mean_io_u: 0.4535 - lr: 1.0000e-04\n",
            "Epoch 12/100\n",
            "368/368 [==============================] - 182s 495ms/step - loss: 0.5703 - recall: 0.5892 - precision: 0.3687 - dice_coef: 0.4300 - mean_io_u: 0.4511 - val_loss: 0.5815 - val_recall: 0.5690 - val_precision: 0.4061 - val_dice_coef: 0.4145 - val_mean_io_u: 0.4535 - lr: 1.0000e-04\n",
            "Epoch 13/100\n",
            "368/368 [==============================] - 182s 495ms/step - loss: 0.5512 - recall: 0.5836 - precision: 0.3982 - dice_coef: 0.4489 - mean_io_u: 0.4522 - val_loss: 0.5603 - val_recall: 0.5028 - val_precision: 0.4695 - val_dice_coef: 0.4339 - val_mean_io_u: 0.4535 - lr: 1.0000e-04\n",
            "Epoch 14/100\n",
            "368/368 [==============================] - 182s 494ms/step - loss: 0.5302 - recall: 0.5830 - precision: 0.4265 - dice_coef: 0.4701 - mean_io_u: 0.4537 - val_loss: 0.5870 - val_recall: 0.7503 - val_precision: 0.3248 - val_dice_coef: 0.4083 - val_mean_io_u: 0.4600 - lr: 1.0000e-04\n",
            "Epoch 15/100\n",
            "368/368 [==============================] - 182s 494ms/step - loss: 0.5071 - recall: 0.5813 - precision: 0.4603 - dice_coef: 0.4931 - mean_io_u: 0.4578 - val_loss: 0.5119 - val_recall: 0.5232 - val_precision: 0.5243 - val_dice_coef: 0.4805 - val_mean_io_u: 0.4651 - lr: 1.0000e-04\n",
            "Epoch 16/100\n",
            "368/368 [==============================] - 182s 494ms/step - loss: 0.5496 - recall: 0.5669 - precision: 0.3978 - dice_coef: 0.4507 - mean_io_u: 0.4525 - val_loss: 0.5454 - val_recall: 0.5611 - val_precision: 0.4397 - val_dice_coef: 0.4470 - val_mean_io_u: 0.4629 - lr: 1.0000e-04\n",
            "Epoch 17/100\n",
            "368/368 [==============================] - 182s 495ms/step - loss: 0.5038 - recall: 0.5732 - precision: 0.4663 - dice_coef: 0.4965 - mean_io_u: 0.4600 - val_loss: 0.5213 - val_recall: 0.4288 - val_precision: 0.6250 - val_dice_coef: 0.4636 - val_mean_io_u: 0.4613 - lr: 1.0000e-04\n",
            "Epoch 18/100\n",
            "368/368 [==============================] - 182s 495ms/step - loss: 0.4669 - recall: 0.5844 - precision: 0.5181 - dice_coef: 0.5333 - mean_io_u: 0.4691 - val_loss: 0.5768 - val_recall: 0.3320 - val_precision: 0.6610 - val_dice_coef: 0.4080 - val_mean_io_u: 0.4556 - lr: 1.0000e-04\n",
            "Epoch 19/100\n",
            "368/368 [==============================] - 182s 494ms/step - loss: 0.4334 - recall: 0.5939 - precision: 0.5709 - dice_coef: 0.5668 - mean_io_u: 0.4752 - val_loss: 0.4868 - val_recall: 0.5377 - val_precision: 0.5737 - val_dice_coef: 0.5011 - val_mean_io_u: 0.4807 - lr: 1.0000e-04\n",
            "Epoch 20/100\n",
            "368/368 [==============================] - 182s 494ms/step - loss: 0.4017 - recall: 0.6084 - precision: 0.6161 - dice_coef: 0.5984 - mean_io_u: 0.4786 - val_loss: 0.4371 - val_recall: 0.5922 - val_precision: 0.6108 - val_dice_coef: 0.5538 - val_mean_io_u: 0.5030 - lr: 1.0000e-04\n",
            "Epoch 21/100\n",
            "368/368 [==============================] - 182s 495ms/step - loss: 0.3719 - recall: 0.6254 - precision: 0.6569 - dice_coef: 0.6283 - mean_io_u: 0.4815 - val_loss: 0.4611 - val_recall: 0.6343 - val_precision: 0.5268 - val_dice_coef: 0.5295 - val_mean_io_u: 0.5060 - lr: 1.0000e-04\n",
            "Epoch 22/100\n",
            "368/368 [==============================] - 182s 494ms/step - loss: 0.3435 - recall: 0.6439 - precision: 0.6928 - dice_coef: 0.6567 - mean_io_u: 0.4834 - val_loss: 0.5440 - val_recall: 0.3706 - val_precision: 0.7693 - val_dice_coef: 0.4398 - val_mean_io_u: 0.4567 - lr: 1.0000e-04\n",
            "Epoch 23/100\n",
            "368/368 [==============================] - 182s 495ms/step - loss: 0.3220 - recall: 0.6539 - precision: 0.7238 - dice_coef: 0.6781 - mean_io_u: 0.4857 - val_loss: 0.6071 - val_recall: 0.2916 - val_precision: 0.7417 - val_dice_coef: 0.3748 - val_mean_io_u: 0.4538 - lr: 1.0000e-04\n",
            "Epoch 24/100\n",
            "368/368 [==============================] - 182s 494ms/step - loss: 0.2960 - recall: 0.6774 - precision: 0.7499 - dice_coef: 0.7041 - mean_io_u: 0.4849 - val_loss: 0.4362 - val_recall: 0.5858 - val_precision: 0.6176 - val_dice_coef: 0.5544 - val_mean_io_u: 0.4802 - lr: 1.0000e-04\n",
            "Epoch 25/100\n",
            "368/368 [==============================] - 182s 494ms/step - loss: 0.2719 - recall: 0.6933 - precision: 0.7817 - dice_coef: 0.7282 - mean_io_u: 0.4877 - val_loss: 0.5132 - val_recall: 0.3745 - val_precision: 0.8201 - val_dice_coef: 0.4720 - val_mean_io_u: 0.4581 - lr: 1.0000e-04\n",
            "Epoch 26/100\n",
            "368/368 [==============================] - 182s 494ms/step - loss: 0.2578 - recall: 0.7062 - precision: 0.7948 - dice_coef: 0.7423 - mean_io_u: 0.4911 - val_loss: 0.4237 - val_recall: 0.6353 - val_precision: 0.5975 - val_dice_coef: 0.5616 - val_mean_io_u: 0.4875 - lr: 1.0000e-04\n",
            "Epoch 27/100\n",
            "368/368 [==============================] - 182s 494ms/step - loss: 0.2419 - recall: 0.7179 - precision: 0.8145 - dice_coef: 0.7582 - mean_io_u: 0.4931 - val_loss: 0.5472 - val_recall: 0.3535 - val_precision: 0.8956 - val_dice_coef: 0.4331 - val_mean_io_u: 0.4577 - lr: 1.0000e-04\n",
            "Epoch 28/100\n",
            "368/368 [==============================] - 182s 495ms/step - loss: 0.2293 - recall: 0.7294 - precision: 0.8261 - dice_coef: 0.7708 - mean_io_u: 0.4951 - val_loss: 0.4696 - val_recall: 0.7392 - val_precision: 0.4757 - val_dice_coef: 0.5211 - val_mean_io_u: 0.5236 - lr: 1.0000e-04\n",
            "Epoch 29/100\n",
            "368/368 [==============================] - 182s 494ms/step - loss: 0.2207 - recall: 0.7376 - precision: 0.8355 - dice_coef: 0.7794 - mean_io_u: 0.4958 - val_loss: 0.4478 - val_recall: 0.6380 - val_precision: 0.5777 - val_dice_coef: 0.5420 - val_mean_io_u: 0.4824 - lr: 1.0000e-04\n",
            "Epoch 30/100\n",
            "368/368 [==============================] - 182s 495ms/step - loss: 0.2078 - recall: 0.7489 - precision: 0.8480 - dice_coef: 0.7923 - mean_io_u: 0.4970 - val_loss: 0.4150 - val_recall: 0.5288 - val_precision: 0.7961 - val_dice_coef: 0.5714 - val_mean_io_u: 0.4748 - lr: 1.0000e-04\n",
            "Epoch 31/100\n",
            "368/368 [==============================] - 182s 495ms/step - loss: 0.1910 - recall: 0.7607 - precision: 0.8668 - dice_coef: 0.8091 - mean_io_u: 0.5014 - val_loss: 0.4110 - val_recall: 0.7046 - val_precision: 0.5983 - val_dice_coef: 0.5732 - val_mean_io_u: 0.5159 - lr: 1.0000e-04\n",
            "Epoch 32/100\n",
            "368/368 [==============================] - 183s 496ms/step - loss: 0.1784 - recall: 0.7737 - precision: 0.8802 - dice_coef: 0.8216 - mean_io_u: 0.5006 - val_loss: 0.4153 - val_recall: 0.7119 - val_precision: 0.5629 - val_dice_coef: 0.5679 - val_mean_io_u: 0.5267 - lr: 1.0000e-04\n",
            "Epoch 33/100\n",
            "368/368 [==============================] - 182s 496ms/step - loss: 0.1721 - recall: 0.7790 - precision: 0.8842 - dice_coef: 0.8280 - mean_io_u: 0.5042 - val_loss: 0.3583 - val_recall: 0.6375 - val_precision: 0.7195 - val_dice_coef: 0.6353 - val_mean_io_u: 0.4840 - lr: 1.0000e-04\n",
            "Epoch 34/100\n",
            "368/368 [==============================] - 182s 495ms/step - loss: 0.1621 - recall: 0.7899 - precision: 0.8918 - dice_coef: 0.8379 - mean_io_u: 0.5079 - val_loss: 0.4398 - val_recall: 0.5792 - val_precision: 0.6504 - val_dice_coef: 0.5438 - val_mean_io_u: 0.4667 - lr: 1.0000e-04\n",
            "Epoch 35/100\n",
            "368/368 [==============================] - 182s 495ms/step - loss: 0.1519 - recall: 0.8021 - precision: 0.9001 - dice_coef: 0.8481 - mean_io_u: 0.5058 - val_loss: 0.5212 - val_recall: 0.3559 - val_precision: 0.8884 - val_dice_coef: 0.4615 - val_mean_io_u: 0.4828 - lr: 1.0000e-04\n",
            "Epoch 36/100\n",
            "368/368 [==============================] - 182s 495ms/step - loss: 0.1451 - recall: 0.8093 - precision: 0.9037 - dice_coef: 0.8550 - mean_io_u: 0.5090 - val_loss: 0.4043 - val_recall: 0.5330 - val_precision: 0.8303 - val_dice_coef: 0.5772 - val_mean_io_u: 0.4705 - lr: 1.0000e-04\n",
            "Epoch 37/100\n",
            "368/368 [==============================] - 182s 494ms/step - loss: 0.1346 - recall: 0.8214 - precision: 0.9127 - dice_coef: 0.8654 - mean_io_u: 0.5126 - val_loss: 0.3602 - val_recall: 0.6066 - val_precision: 0.8077 - val_dice_coef: 0.6209 - val_mean_io_u: 0.5042 - lr: 1.0000e-04\n",
            "Epoch 38/100\n",
            "368/368 [==============================] - ETA: 0s - loss: 0.1370 - recall: 0.8222 - precision: 0.9073 - dice_coef: 0.8630 - mean_io_u: 0.5113\n",
            "Epoch 38: ReduceLROnPlateau reducing learning rate to 9.999999747378752e-06.\n",
            "368/368 [==============================] - 182s 494ms/step - loss: 0.1370 - recall: 0.8222 - precision: 0.9073 - dice_coef: 0.8630 - mean_io_u: 0.5113 - val_loss: 0.3840 - val_recall: 0.6656 - val_precision: 0.6567 - val_dice_coef: 0.6077 - val_mean_io_u: 0.5366 - lr: 1.0000e-04\n",
            "Epoch 39/100\n",
            "368/368 [==============================] - 182s 495ms/step - loss: 0.1182 - recall: 0.8414 - precision: 0.9232 - dice_coef: 0.8818 - mean_io_u: 0.5111 - val_loss: 0.3453 - val_recall: 0.6398 - val_precision: 0.7676 - val_dice_coef: 0.6424 - val_mean_io_u: 0.4832 - lr: 1.0000e-05\n",
            "Epoch 40/100\n",
            "368/368 [==============================] - 182s 493ms/step - loss: 0.1034 - recall: 0.8562 - precision: 0.9363 - dice_coef: 0.8966 - mean_io_u: 0.5086 - val_loss: 0.3398 - val_recall: 0.6448 - val_precision: 0.7735 - val_dice_coef: 0.6481 - val_mean_io_u: 0.4814 - lr: 1.0000e-05\n",
            "Epoch 41/100\n",
            "368/368 [==============================] - 182s 494ms/step - loss: 0.0968 - recall: 0.8627 - precision: 0.9422 - dice_coef: 0.9033 - mean_io_u: 0.5092 - val_loss: 0.3398 - val_recall: 0.6408 - val_precision: 0.7803 - val_dice_coef: 0.6480 - val_mean_io_u: 0.4780 - lr: 1.0000e-05\n",
            "Epoch 42/100\n",
            "368/368 [==============================] - 182s 494ms/step - loss: 0.0922 - recall: 0.8674 - precision: 0.9459 - dice_coef: 0.9079 - mean_io_u: 0.5096 - val_loss: 0.3371 - val_recall: 0.6569 - val_precision: 0.7598 - val_dice_coef: 0.6512 - val_mean_io_u: 0.4799 - lr: 1.0000e-05\n",
            "Epoch 43/100\n",
            "368/368 [==============================] - 182s 494ms/step - loss: 0.0887 - recall: 0.8710 - precision: 0.9487 - dice_coef: 0.9113 - mean_io_u: 0.5103 - val_loss: 0.3365 - val_recall: 0.6507 - val_precision: 0.7737 - val_dice_coef: 0.6514 - val_mean_io_u: 0.4800 - lr: 1.0000e-05\n",
            "Epoch 44/100\n",
            "368/368 [==============================] - 182s 495ms/step - loss: 0.0853 - recall: 0.8748 - precision: 0.9514 - dice_coef: 0.9147 - mean_io_u: 0.5107 - val_loss: 0.3288 - val_recall: 0.6532 - val_precision: 0.7811 - val_dice_coef: 0.6604 - val_mean_io_u: 0.4787 - lr: 1.0000e-05\n",
            "Epoch 45/100\n",
            "368/368 [==============================] - 182s 495ms/step - loss: 0.0824 - recall: 0.8781 - precision: 0.9536 - dice_coef: 0.9176 - mean_io_u: 0.5109 - val_loss: 0.3276 - val_recall: 0.6644 - val_precision: 0.7685 - val_dice_coef: 0.6617 - val_mean_io_u: 0.4832 - lr: 1.0000e-05\n",
            "Epoch 46/100\n",
            "368/368 [==============================] - 182s 494ms/step - loss: 0.0796 - recall: 0.8812 - precision: 0.9561 - dice_coef: 0.9205 - mean_io_u: 0.5117 - val_loss: 0.3310 - val_recall: 0.6546 - val_precision: 0.7700 - val_dice_coef: 0.6593 - val_mean_io_u: 0.4795 - lr: 1.0000e-05\n",
            "Epoch 47/100\n",
            "368/368 [==============================] - 182s 495ms/step - loss: 0.0768 - recall: 0.8844 - precision: 0.9580 - dice_coef: 0.9232 - mean_io_u: 0.5126 - val_loss: 0.3273 - val_recall: 0.6502 - val_precision: 0.7916 - val_dice_coef: 0.6616 - val_mean_io_u: 0.4804 - lr: 1.0000e-05\n",
            "Epoch 48/100\n",
            "368/368 [==============================] - 182s 494ms/step - loss: 0.0744 - recall: 0.8875 - precision: 0.9596 - dice_coef: 0.9256 - mean_io_u: 0.5131 - val_loss: 0.3257 - val_recall: 0.6653 - val_precision: 0.7633 - val_dice_coef: 0.6649 - val_mean_io_u: 0.4832 - lr: 1.0000e-05\n",
            "Epoch 49/100\n",
            "368/368 [==============================] - 183s 498ms/step - loss: 0.0721 - recall: 0.8903 - precision: 0.9611 - dice_coef: 0.9279 - mean_io_u: 0.5144 - val_loss: 0.3238 - val_recall: 0.6532 - val_precision: 0.7949 - val_dice_coef: 0.6645 - val_mean_io_u: 0.4860 - lr: 1.0000e-05\n",
            "Epoch 50/100\n",
            "368/368 [==============================] - 182s 495ms/step - loss: 0.0702 - recall: 0.8930 - precision: 0.9624 - dice_coef: 0.9299 - mean_io_u: 0.5147 - val_loss: 0.3306 - val_recall: 0.6581 - val_precision: 0.7624 - val_dice_coef: 0.6607 - val_mean_io_u: 0.4872 - lr: 1.0000e-05\n",
            "Epoch 51/100\n",
            "368/368 [==============================] - 182s 495ms/step - loss: 0.0682 - recall: 0.8956 - precision: 0.9638 - dice_coef: 0.9319 - mean_io_u: 0.5166 - val_loss: 0.3262 - val_recall: 0.6650 - val_precision: 0.7616 - val_dice_coef: 0.6647 - val_mean_io_u: 0.4885 - lr: 1.0000e-05\n",
            "Epoch 52/100\n",
            "368/368 [==============================] - 182s 495ms/step - loss: 0.0659 - recall: 0.8984 - precision: 0.9652 - dice_coef: 0.9341 - mean_io_u: 0.5177 - val_loss: 0.3230 - val_recall: 0.6616 - val_precision: 0.7738 - val_dice_coef: 0.6673 - val_mean_io_u: 0.4872 - lr: 1.0000e-05\n",
            "Epoch 53/100\n",
            "368/368 [==============================] - 182s 495ms/step - loss: 0.0641 - recall: 0.9006 - precision: 0.9664 - dice_coef: 0.9359 - mean_io_u: 0.5186 - val_loss: 0.3241 - val_recall: 0.6653 - val_precision: 0.7673 - val_dice_coef: 0.6670 - val_mean_io_u: 0.4894 - lr: 1.0000e-05\n",
            "Epoch 54/100\n",
            "368/368 [==============================] - 183s 496ms/step - loss: 0.0628 - recall: 0.9021 - precision: 0.9674 - dice_coef: 0.9372 - mean_io_u: 0.5203 - val_loss: 0.3222 - val_recall: 0.6609 - val_precision: 0.7726 - val_dice_coef: 0.6683 - val_mean_io_u: 0.4981 - lr: 1.0000e-05\n",
            "Epoch 55/100\n",
            "368/368 [==============================] - 182s 495ms/step - loss: 0.0612 - recall: 0.9044 - precision: 0.9682 - dice_coef: 0.9388 - mean_io_u: 0.5211 - val_loss: 0.3262 - val_recall: 0.6619 - val_precision: 0.7615 - val_dice_coef: 0.6653 - val_mean_io_u: 0.4927 - lr: 1.0000e-05\n",
            "Epoch 56/100\n",
            "368/368 [==============================] - 182s 495ms/step - loss: 0.0595 - recall: 0.9066 - precision: 0.9692 - dice_coef: 0.9405 - mean_io_u: 0.5222 - val_loss: 0.3199 - val_recall: 0.6559 - val_precision: 0.7850 - val_dice_coef: 0.6708 - val_mean_io_u: 0.4920 - lr: 1.0000e-05\n",
            "Epoch 57/100\n",
            "368/368 [==============================] - 182s 495ms/step - loss: 0.0581 - recall: 0.9083 - precision: 0.9702 - dice_coef: 0.9419 - mean_io_u: 0.5237 - val_loss: 0.3274 - val_recall: 0.6745 - val_precision: 0.7444 - val_dice_coef: 0.6653 - val_mean_io_u: 0.4984 - lr: 1.0000e-05\n",
            "Epoch 58/100\n",
            "368/368 [==============================] - 182s 496ms/step - loss: 0.0569 - recall: 0.9097 - precision: 0.9712 - dice_coef: 0.9432 - mean_io_u: 0.5254 - val_loss: 0.3227 - val_recall: 0.6600 - val_precision: 0.7741 - val_dice_coef: 0.6687 - val_mean_io_u: 0.4978 - lr: 1.0000e-05\n",
            "Epoch 59/100\n",
            "368/368 [==============================] - 182s 494ms/step - loss: 0.0557 - recall: 0.9116 - precision: 0.9716 - dice_coef: 0.9443 - mean_io_u: 0.5258 - val_loss: 0.3338 - val_recall: 0.6551 - val_precision: 0.7545 - val_dice_coef: 0.6593 - val_mean_io_u: 0.4945 - lr: 1.0000e-05\n",
            "Epoch 60/100\n",
            "368/368 [==============================] - 182s 494ms/step - loss: 0.0546 - recall: 0.9129 - precision: 0.9725 - dice_coef: 0.9455 - mean_io_u: 0.5275 - val_loss: 0.3295 - val_recall: 0.6381 - val_precision: 0.7998 - val_dice_coef: 0.6608 - val_mean_io_u: 0.4976 - lr: 1.0000e-05\n",
            "Epoch 61/100\n",
            "368/368 [==============================] - ETA: 0s - loss: 0.0535 - recall: 0.9142 - precision: 0.9732 - dice_coef: 0.9466 - mean_io_u: 0.5295\n",
            "Epoch 61: ReduceLROnPlateau reducing learning rate to 1e-06.\n",
            "368/368 [==============================] - 182s 494ms/step - loss: 0.0535 - recall: 0.9142 - precision: 0.9732 - dice_coef: 0.9466 - mean_io_u: 0.5295 - val_loss: 0.3267 - val_recall: 0.6481 - val_precision: 0.7835 - val_dice_coef: 0.6648 - val_mean_io_u: 0.4913 - lr: 1.0000e-05\n",
            "Epoch 62/100\n",
            "368/368 [==============================] - 182s 495ms/step - loss: 0.0527 - recall: 0.9151 - precision: 0.9740 - dice_coef: 0.9473 - mean_io_u: 0.5316 - val_loss: 0.3366 - val_recall: 0.6207 - val_precision: 0.8220 - val_dice_coef: 0.6522 - val_mean_io_u: 0.4936 - lr: 1.0000e-06\n",
            "Epoch 63/100\n",
            "368/368 [==============================] - 182s 495ms/step - loss: 0.0516 - recall: 0.9166 - precision: 0.9744 - dice_coef: 0.9484 - mean_io_u: 0.5310 - val_loss: 0.3369 - val_recall: 0.6207 - val_precision: 0.8213 - val_dice_coef: 0.6518 - val_mean_io_u: 0.4939 - lr: 1.0000e-06\n",
            "Epoch 64/100\n",
            "368/368 [==============================] - 182s 495ms/step - loss: 0.0510 - recall: 0.9172 - precision: 0.9749 - dice_coef: 0.9490 - mean_io_u: 0.5309 - val_loss: 0.3364 - val_recall: 0.6209 - val_precision: 0.8204 - val_dice_coef: 0.6522 - val_mean_io_u: 0.4943 - lr: 1.0000e-06\n",
            "Epoch 65/100\n",
            "368/368 [==============================] - 182s 495ms/step - loss: 0.0506 - recall: 0.9176 - precision: 0.9753 - dice_coef: 0.9494 - mean_io_u: 0.5308 - val_loss: 0.3362 - val_recall: 0.6211 - val_precision: 0.8197 - val_dice_coef: 0.6526 - val_mean_io_u: 0.4946 - lr: 1.0000e-06\n",
            "Epoch 66/100\n",
            "368/368 [==============================] - 182s 495ms/step - loss: 0.0503 - recall: 0.9180 - precision: 0.9755 - dice_coef: 0.9498 - mean_io_u: 0.5308 - val_loss: 0.3359 - val_recall: 0.6214 - val_precision: 0.8190 - val_dice_coef: 0.6530 - val_mean_io_u: 0.4950 - lr: 1.0000e-06\n",
            "Epoch 67/100\n",
            "368/368 [==============================] - 182s 495ms/step - loss: 0.0500 - recall: 0.9183 - precision: 0.9758 - dice_coef: 0.9501 - mean_io_u: 0.5309 - val_loss: 0.3356 - val_recall: 0.6218 - val_precision: 0.8184 - val_dice_coef: 0.6535 - val_mean_io_u: 0.4952 - lr: 1.0000e-06\n",
            "Epoch 68/100\n",
            "368/368 [==============================] - 182s 494ms/step - loss: 0.0497 - recall: 0.9186 - precision: 0.9760 - dice_coef: 0.9503 - mean_io_u: 0.5310 - val_loss: 0.3348 - val_recall: 0.6229 - val_precision: 0.8178 - val_dice_coef: 0.6544 - val_mean_io_u: 0.4953 - lr: 1.0000e-06\n",
            "Epoch 69/100\n",
            "368/368 [==============================] - 182s 495ms/step - loss: 0.0494 - recall: 0.9189 - precision: 0.9762 - dice_coef: 0.9506 - mean_io_u: 0.5312 - val_loss: 0.3346 - val_recall: 0.6233 - val_precision: 0.8172 - val_dice_coef: 0.6547 - val_mean_io_u: 0.4956 - lr: 1.0000e-06\n",
            "Epoch 70/100\n",
            "368/368 [==============================] - 182s 494ms/step - loss: 0.0492 - recall: 0.9192 - precision: 0.9764 - dice_coef: 0.9508 - mean_io_u: 0.5314 - val_loss: 0.3341 - val_recall: 0.6241 - val_precision: 0.8166 - val_dice_coef: 0.6553 - val_mean_io_u: 0.4957 - lr: 1.0000e-06\n",
            "Epoch 71/100\n",
            "368/368 [==============================] - 182s 494ms/step - loss: 0.0490 - recall: 0.9194 - precision: 0.9766 - dice_coef: 0.9511 - mean_io_u: 0.5316 - val_loss: 0.3336 - val_recall: 0.6247 - val_precision: 0.8159 - val_dice_coef: 0.6559 - val_mean_io_u: 0.4958 - lr: 1.0000e-06\n",
            "Epoch 72/100\n",
            "368/368 [==============================] - 182s 495ms/step - loss: 0.0487 - recall: 0.9197 - precision: 0.9768 - dice_coef: 0.9513 - mean_io_u: 0.5318 - val_loss: 0.3332 - val_recall: 0.6253 - val_precision: 0.8154 - val_dice_coef: 0.6565 - val_mean_io_u: 0.4961 - lr: 1.0000e-06\n",
            "Epoch 73/100\n",
            "368/368 [==============================] - 182s 494ms/step - loss: 0.0485 - recall: 0.9200 - precision: 0.9770 - dice_coef: 0.9515 - mean_io_u: 0.5321 - val_loss: 0.3330 - val_recall: 0.6259 - val_precision: 0.8146 - val_dice_coef: 0.6567 - val_mean_io_u: 0.4963 - lr: 1.0000e-06\n",
            "Epoch 74/100\n",
            "368/368 [==============================] - 182s 495ms/step - loss: 0.0483 - recall: 0.9203 - precision: 0.9771 - dice_coef: 0.9517 - mean_io_u: 0.5324 - val_loss: 0.3327 - val_recall: 0.6261 - val_precision: 0.8143 - val_dice_coef: 0.6572 - val_mean_io_u: 0.4965 - lr: 1.0000e-06\n",
            "Epoch 75/100\n",
            "368/368 [==============================] - 182s 495ms/step - loss: 0.0481 - recall: 0.9206 - precision: 0.9773 - dice_coef: 0.9520 - mean_io_u: 0.5326 - val_loss: 0.3323 - val_recall: 0.6266 - val_precision: 0.8138 - val_dice_coef: 0.6577 - val_mean_io_u: 0.4969 - lr: 1.0000e-06\n",
            "Epoch 76/100\n",
            "368/368 [==============================] - 182s 494ms/step - loss: 0.0478 - recall: 0.9209 - precision: 0.9775 - dice_coef: 0.9522 - mean_io_u: 0.5329 - val_loss: 0.3324 - val_recall: 0.6264 - val_precision: 0.8137 - val_dice_coef: 0.6576 - val_mean_io_u: 0.4970 - lr: 1.0000e-06\n",
            "Epoch 77/100\n",
            "368/368 [==============================] - 182s 494ms/step - loss: 0.0476 - recall: 0.9212 - precision: 0.9776 - dice_coef: 0.9524 - mean_io_u: 0.5331 - val_loss: 0.3324 - val_recall: 0.6264 - val_precision: 0.8134 - val_dice_coef: 0.6577 - val_mean_io_u: 0.4974 - lr: 1.0000e-06\n",
            "Epoch 78/100\n",
            "368/368 [==============================] - 182s 494ms/step - loss: 0.0474 - recall: 0.9215 - precision: 0.9778 - dice_coef: 0.9526 - mean_io_u: 0.5334 - val_loss: 0.3320 - val_recall: 0.6270 - val_precision: 0.8126 - val_dice_coef: 0.6581 - val_mean_io_u: 0.4979 - lr: 1.0000e-06\n",
            "Epoch 79/100\n",
            "368/368 [==============================] - 182s 494ms/step - loss: 0.0472 - recall: 0.9217 - precision: 0.9779 - dice_coef: 0.9529 - mean_io_u: 0.5337 - val_loss: 0.3315 - val_recall: 0.6278 - val_precision: 0.8120 - val_dice_coef: 0.6588 - val_mean_io_u: 0.4983 - lr: 1.0000e-06\n",
            "Epoch 80/100\n",
            "368/368 [==============================] - 182s 494ms/step - loss: 0.0470 - recall: 0.9220 - precision: 0.9781 - dice_coef: 0.9531 - mean_io_u: 0.5339 - val_loss: 0.3318 - val_recall: 0.6271 - val_precision: 0.8122 - val_dice_coef: 0.6584 - val_mean_io_u: 0.4984 - lr: 1.0000e-06\n",
            "Epoch 81/100\n",
            "368/368 [==============================] - 182s 495ms/step - loss: 0.0467 - recall: 0.9222 - precision: 0.9782 - dice_coef: 0.9533 - mean_io_u: 0.5342 - val_loss: 0.3308 - val_recall: 0.6284 - val_precision: 0.8115 - val_dice_coef: 0.6596 - val_mean_io_u: 0.4989 - lr: 1.0000e-06\n",
            "Epoch 82/100\n",
            "368/368 [==============================] - 182s 494ms/step - loss: 0.0465 - recall: 0.9225 - precision: 0.9784 - dice_coef: 0.9535 - mean_io_u: 0.5344 - val_loss: 0.3314 - val_recall: 0.6277 - val_precision: 0.8110 - val_dice_coef: 0.6591 - val_mean_io_u: 0.4989 - lr: 1.0000e-06\n",
            "Epoch 83/100\n",
            "368/368 [==============================] - 182s 494ms/step - loss: 0.0463 - recall: 0.9228 - precision: 0.9785 - dice_coef: 0.9537 - mean_io_u: 0.5347 - val_loss: 0.3300 - val_recall: 0.6294 - val_precision: 0.8110 - val_dice_coef: 0.6605 - val_mean_io_u: 0.4996 - lr: 1.0000e-06\n",
            "Epoch 84/100\n",
            "368/368 [==============================] - 182s 494ms/step - loss: 0.0461 - recall: 0.9231 - precision: 0.9787 - dice_coef: 0.9539 - mean_io_u: 0.5350 - val_loss: 0.3308 - val_recall: 0.6286 - val_precision: 0.8104 - val_dice_coef: 0.6598 - val_mean_io_u: 0.4997 - lr: 1.0000e-06\n",
            "Epoch 85/100\n",
            "368/368 [==============================] - 182s 495ms/step - loss: 0.0459 - recall: 0.9233 - precision: 0.9788 - dice_coef: 0.9541 - mean_io_u: 0.5353 - val_loss: 0.3294 - val_recall: 0.6300 - val_precision: 0.8110 - val_dice_coef: 0.6613 - val_mean_io_u: 0.5003 - lr: 1.0000e-06\n",
            "Epoch 86/100\n",
            "368/368 [==============================] - 182s 494ms/step - loss: 0.0457 - recall: 0.9236 - precision: 0.9789 - dice_coef: 0.9543 - mean_io_u: 0.5355 - val_loss: 0.3301 - val_recall: 0.6295 - val_precision: 0.8094 - val_dice_coef: 0.6606 - val_mean_io_u: 0.5003 - lr: 1.0000e-06\n",
            "Epoch 87/100\n",
            "368/368 [==============================] - 182s 494ms/step - loss: 0.0455 - recall: 0.9238 - precision: 0.9791 - dice_coef: 0.9545 - mean_io_u: 0.5359 - val_loss: 0.3284 - val_recall: 0.6310 - val_precision: 0.8109 - val_dice_coef: 0.6623 - val_mean_io_u: 0.5009 - lr: 1.0000e-06\n",
            "Epoch 88/100\n",
            "368/368 [==============================] - 183s 496ms/step - loss: 0.0453 - recall: 0.9240 - precision: 0.9792 - dice_coef: 0.9547 - mean_io_u: 0.5362 - val_loss: 0.3295 - val_recall: 0.6292 - val_precision: 0.8111 - val_dice_coef: 0.6613 - val_mean_io_u: 0.5005 - lr: 1.0000e-06\n",
            "Epoch 89/100\n",
            "368/368 [==============================] - 182s 495ms/step - loss: 0.0451 - recall: 0.9243 - precision: 0.9794 - dice_coef: 0.9549 - mean_io_u: 0.5364 - val_loss: 0.3281 - val_recall: 0.6309 - val_precision: 0.8112 - val_dice_coef: 0.6627 - val_mean_io_u: 0.5012 - lr: 1.0000e-06\n",
            "Epoch 90/100\n",
            "368/368 [==============================] - 182s 495ms/step - loss: 0.0449 - recall: 0.9245 - precision: 0.9795 - dice_coef: 0.9551 - mean_io_u: 0.5367 - val_loss: 0.3291 - val_recall: 0.6304 - val_precision: 0.8089 - val_dice_coef: 0.6618 - val_mean_io_u: 0.5012 - lr: 1.0000e-06\n",
            "Epoch 91/100\n",
            "368/368 [==============================] - 182s 495ms/step - loss: 0.0447 - recall: 0.9248 - precision: 0.9796 - dice_coef: 0.9553 - mean_io_u: 0.5370 - val_loss: 0.3272 - val_recall: 0.6330 - val_precision: 0.8097 - val_dice_coef: 0.6639 - val_mean_io_u: 0.5020 - lr: 1.0000e-06\n",
            "Epoch 92/100\n",
            "368/368 [==============================] - 182s 495ms/step - loss: 0.0445 - recall: 0.9250 - precision: 0.9798 - dice_coef: 0.9555 - mean_io_u: 0.5373 - val_loss: 0.3282 - val_recall: 0.6321 - val_precision: 0.8084 - val_dice_coef: 0.6628 - val_mean_io_u: 0.5019 - lr: 1.0000e-06\n",
            "Epoch 93/100\n",
            "368/368 [==============================] - 182s 495ms/step - loss: 0.0443 - recall: 0.9252 - precision: 0.9799 - dice_coef: 0.9557 - mean_io_u: 0.5376 - val_loss: 0.3273 - val_recall: 0.6329 - val_precision: 0.8089 - val_dice_coef: 0.6638 - val_mean_io_u: 0.5028 - lr: 1.0000e-06\n",
            "Epoch 94/100\n",
            "368/368 [==============================] - 182s 495ms/step - loss: 0.0442 - recall: 0.9255 - precision: 0.9800 - dice_coef: 0.9559 - mean_io_u: 0.5379 - val_loss: 0.3282 - val_recall: 0.6323 - val_precision: 0.8076 - val_dice_coef: 0.6628 - val_mean_io_u: 0.5025 - lr: 1.0000e-06\n",
            "Epoch 95/100\n",
            "368/368 [==============================] - 182s 495ms/step - loss: 0.0440 - recall: 0.9257 - precision: 0.9801 - dice_coef: 0.9560 - mean_io_u: 0.5381 - val_loss: 0.3275 - val_recall: 0.6327 - val_precision: 0.8085 - val_dice_coef: 0.6636 - val_mean_io_u: 0.5036 - lr: 1.0000e-06\n",
            "Epoch 96/100\n",
            "368/368 [==============================] - 182s 495ms/step - loss: 0.0438 - recall: 0.9260 - precision: 0.9802 - dice_coef: 0.9562 - mean_io_u: 0.5384 - val_loss: 0.3277 - val_recall: 0.6327 - val_precision: 0.8080 - val_dice_coef: 0.6634 - val_mean_io_u: 0.5032 - lr: 1.0000e-06\n",
            "Epoch 97/100\n",
            "368/368 [==============================] - 182s 495ms/step - loss: 0.0436 - recall: 0.9261 - precision: 0.9804 - dice_coef: 0.9564 - mean_io_u: 0.5387 - val_loss: 0.3281 - val_recall: 0.6316 - val_precision: 0.8089 - val_dice_coef: 0.6629 - val_mean_io_u: 0.5040 - lr: 1.0000e-06\n",
            "Epoch 98/100\n",
            "368/368 [==============================] - 182s 495ms/step - loss: 0.0435 - recall: 0.9264 - precision: 0.9804 - dice_coef: 0.9566 - mean_io_u: 0.5390 - val_loss: 0.3269 - val_recall: 0.6336 - val_precision: 0.8080 - val_dice_coef: 0.6643 - val_mean_io_u: 0.5036 - lr: 1.0000e-06\n",
            "Epoch 99/100\n",
            "368/368 [==============================] - 182s 494ms/step - loss: 0.0433 - recall: 0.9266 - precision: 0.9806 - dice_coef: 0.9567 - mean_io_u: 0.5392 - val_loss: 0.3274 - val_recall: 0.6326 - val_precision: 0.8086 - val_dice_coef: 0.6637 - val_mean_io_u: 0.5048 - lr: 1.0000e-06\n",
            "Epoch 100/100\n",
            "368/368 [==============================] - 182s 494ms/step - loss: 0.0431 - recall: 0.9268 - precision: 0.9807 - dice_coef: 0.9569 - mean_io_u: 0.5395 - val_loss: 0.3259 - val_recall: 0.6347 - val_precision: 0.8080 - val_dice_coef: 0.6654 - val_mean_io_u: 0.5046 - lr: 1.0000e-06\n"
          ]
        }
      ]
    },
    {
      "cell_type": "code",
      "source": [
        ""
      ],
      "metadata": {
        "id": "-Dh6vS2C4-fQ"
      },
      "execution_count": null,
      "outputs": []
    }
  ]
}