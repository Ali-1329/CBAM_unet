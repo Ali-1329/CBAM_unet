{
 "cells": [
  {
   "cell_type": "code",
   "execution_count": 3,
   "metadata": {},
   "outputs": [],
   "source": [
    "import os\n",
    "import numpy as np\n",
    "import cv2\n",
    "\n",
    "import tensorflow as tf\n",
    "from tensorflow.keras.layers import *\n",
    "from tensorflow.keras.models import Model\n",
    "from attention import CBAM"
   ]
  },
  {
   "cell_type": "code",
   "execution_count": 6,
   "metadata": {},
   "outputs": [],
   "source": [
    "def stem_block(x, n_filter, strides):\n",
    "    x_init = x\n",
    "\n",
    "    ## Conv 1\n",
    "    x = Conv2D(n_filter, (3, 3), padding=\"same\", strides=strides)(x)\n",
    "    x = BatchNormalization()(x)\n",
    "    x = Activation(\"relu\")(x)\n",
    "    x = Conv2D(n_filter, (3, 3), padding=\"same\")(x)\n",
    "\n",
    "    ## Shortcut\n",
    "    s  = Conv2D(n_filter, (1, 1), padding=\"same\", strides=strides)(x_init)\n",
    "    s = BatchNormalization()(s)\n",
    "\n",
    "    ## Add\n",
    "    x = Add()([x, s])\n",
    "    x = CBAM(x)\n",
    "    return x"
   ]
  },
  {
   "cell_type": "code",
   "execution_count": null,
   "metadata": {},
   "outputs": [],
   "source": [
    "def resnet_block(x, n_filter, strides=1):\n",
    "    x_init = x\n",
    "\n",
    "    ## Conv 1\n",
    "    x = BatchNormalization()(x)\n",
    "    x = Activation(\"relu\")(x)\n",
    "    x = Conv2D(n_filter, (3, 3), padding=\"same\", strides=strides)(x)\n",
    "    ## Conv 2\n",
    "    x = BatchNormalization()(x)\n",
    "    x = Activation(\"relu\")(x)\n",
    "    x = Conv2D(n_filter, (3, 3), padding=\"same\", strides=1)(x)\n",
    "\n",
    "    ## Shortcut\n",
    "    s  = Conv2D(n_filter, (1, 1), padding=\"same\", strides=strides)(x_init)\n",
    "    s = BatchNormalization()(s)\n",
    "\n",
    "    ## Add\n",
    "    x = Add()([x, s])\n",
    "    x = CBAM(x)\n",
    "    return x"
   ]
  },
  {
   "cell_type": "code",
   "execution_count": 8,
   "metadata": {},
   "outputs": [
    {
     "data": {
      "text/plain": [
       "TensorShape([2, 32, 32, 16])"
      ]
     },
     "execution_count": 8,
     "metadata": {},
     "output_type": "execute_result"
    }
   ],
   "source": [
    "tt = tf.random.uniform(shape=(2, 32, 32, 3))\n",
    "xx = Conv2D(16, (3, 3), strides=1, padding='same')\n",
    "xx(tt).shape"
   ]
  },
  {
   "cell_type": "code",
   "execution_count": null,
   "metadata": {},
   "outputs": [],
   "source": [
    "def attetion_block(g, x):\n",
    "    \"\"\"\n",
    "        g: Output of Parallel Encoder block\n",
    "        x: Output of Previous Decoder block\n",
    "    \"\"\"\n",
    "\n",
    "    filters = x.shape[-1]\n",
    "\n",
    "    g_conv = BatchNormalization()(g)\n",
    "    g_conv = Activation(\"relu\")(g_conv)\n",
    "    g_conv = Conv2D(filters, (3, 3), padding=\"same\")(g_conv)\n",
    "\n",
    "    g_pool = MaxPooling2D(pool_size=(2, 2), strides=(2, 2))(g_conv)\n",
    "\n",
    "    x_conv = BatchNormalization()(x)\n",
    "    x_conv = Activation(\"relu\")(x_conv)\n",
    "    x_conv = Conv2D(filters, (3, 3), padding=\"same\")(x_conv)\n",
    "\n",
    "    gc_sum = Add()([g_pool, x_conv])\n",
    "\n",
    "    gc_conv = BatchNormalization()(gc_sum)\n",
    "    gc_conv = Activation(\"relu\")(gc_conv)\n",
    "    gc_conv = Conv2D(filters, (3, 3), padding=\"same\")(gc_conv)\n",
    "\n",
    "    gc_mul = Multiply()([gc_conv, x])\n",
    "    return gc_mul\n"
   ]
  },
  {
   "cell_type": "code",
   "execution_count": 9,
   "metadata": {},
   "outputs": [],
   "source": [
    "def ASPP(x, filter):\n",
    "    shape = x.shape\n",
    "\n",
    "    y1 = AveragePooling2D(pool_size=(shape[1], shape[2]))(x)\n",
    "    y1 = Conv2D(filter, 1, padding=\"same\")(y1)\n",
    "    y1 = BatchNormalization()(y1)\n",
    "    y1 = Activation(\"relu\")(y1)\n",
    "    y1 = UpSampling2D((shape[1], shape[2]), interpolation=\"bilinear\")(y1)\n",
    "\n",
    "    y2 = Conv2D(filter, 1, dilation_rate=1, padding=\"same\", use_bias=False)(x)\n",
    "    y2 = BatchNormalization()(y2)\n",
    "    y2 = Activation(\"relu\")(y2)\n",
    "\n",
    "    y3 = Conv2D(filter, 3, dilation_rate=6, padding=\"same\", use_bias=False)(x)\n",
    "    y3 = BatchNormalization()(y3)\n",
    "    y3 = Activation(\"relu\")(y3)\n",
    "\n",
    "    y4 = Conv2D(filter, 3, dilation_rate=12, padding=\"same\", use_bias=False)(x)\n",
    "    y4 = BatchNormalization()(y4)\n",
    "    y4 = Activation(\"relu\")(y4)\n",
    "\n",
    "    y5 = Conv2D(filter, 3, dilation_rate=18, padding=\"same\", use_bias=False)(x)\n",
    "    y5 = BatchNormalization()(y5)\n",
    "    y5 = Activation(\"relu\")(y5)\n",
    "\n",
    "    y = Concatenate()([y1, y2, y3, y4, y5])\n",
    "\n",
    "    y = Conv2D(filter, 1, dilation_rate=1, padding=\"same\", use_bias=False)(y)\n",
    "    y = BatchNormalization()(y)\n",
    "    y = Activation(\"relu\")(y)\n",
    "\n",
    "    return y"
   ]
  },
  {
   "cell_type": "code",
   "execution_count": null,
   "metadata": {},
   "outputs": [],
   "source": [
    "class ResUnetPlusPlus:\n",
    "    def __init__(self, input_size=256):\n",
    "        self.input_size = input_size\n",
    "\n",
    "    def build_model(self):\n",
    "        n_filters = [16, 32, 64, 128, 256]\n",
    "        inputs = Input((self.input_size, self.input_size, 3))\n",
    "\n",
    "        c0 = inputs\n",
    "        c1 = stem_block(c0, n_filters[0], strides=1)\n",
    "\n",
    "        ## Encoder\n",
    "        c2 = resnet_block(c1, n_filters[1], strides=2)\n",
    "        c3 = resnet_block(c2, n_filters[2], strides=2)\n",
    "        c4 = resnet_block(c3, n_filters[3], strides=2)\n",
    "\n",
    "        ## Bridge\n",
    "        b1 = ASPP(c4, n_filters[4])\n",
    "\n",
    "        ## Decoder\n",
    "        d1 = attetion_block(c3, b1)\n",
    "        d1 = UpSampling2D((2, 2))(d1)\n",
    "        d1 = Concatenate()([d1, c3])\n",
    "        d1 = resnet_block(d1, n_filters[3])\n",
    "\n",
    "        d2 = attetion_block(c2, d1)\n",
    "        d2 = UpSampling2D((2, 2))(d2)\n",
    "        d2 = Concatenate()([d2, c2])\n",
    "        d2 = resnet_block(d2, n_filters[2])\n",
    "\n",
    "        d3 = attetion_block(c1, d2)\n",
    "        d3 = UpSampling2D((2, 2))(d3)\n",
    "        d3 = Concatenate()([d3, c1])\n",
    "        d3 = resnet_block(d3, n_filters[1])\n",
    "\n",
    "        ## output\n",
    "        outputs = ASPP(d3, n_filters[0])\n",
    "        outputs = Conv2D(1, (1, 1), padding=\"same\")(outputs)\n",
    "        outputs = Activation(\"sigmoid\")(outputs)\n",
    "\n",
    "        ## Model\n",
    "        model = Model(inputs, outputs)\n",
    "        return model"
   ]
  }
 ],
 "metadata": {
  "interpreter": {
   "hash": "97ae724bfa85b9b34df7982b8bb8c7216f435b92902d749e4263f71162bea840"
  },
  "kernelspec": {
   "display_name": "Python 3.8.8 ('base')",
   "language": "python",
   "name": "python3"
  },
  "language_info": {
   "codemirror_mode": {
    "name": "ipython",
    "version": 3
   },
   "file_extension": ".py",
   "mimetype": "text/x-python",
   "name": "python",
   "nbconvert_exporter": "python",
   "pygments_lexer": "ipython3",
   "version": "3.8.8"
  },
  "orig_nbformat": 4
 },
 "nbformat": 4,
 "nbformat_minor": 2
}
